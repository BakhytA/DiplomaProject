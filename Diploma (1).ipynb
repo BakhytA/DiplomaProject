{
  "cells": [
    {
      "cell_type": "markdown",
      "metadata": {
        "id": "6bR6wkbeJaPK"
      },
      "source": [
        "\n",
        "\n",
        "> **Defining parameters of rocks (specifically for the granite)**\n",
        "\n"
      ]
    },
    {
      "cell_type": "code",
      "execution_count": null,
      "metadata": {
        "id": "0wKtwDcdKmk0"
      },
      "outputs": [],
      "source": [
        "import numpy as np\n",
        "import math\n",
        "import cmath\n",
        "import pandas as pd\n",
        "import sympy\n",
        "from sympy import mellin_transform, exp\n",
        "import scipy.integrate as integrate\n",
        "from scipy.integrate import quad\n",
        "import scipy.special as special\n",
        "from copy import copy, deepcopy\n",
        "from sympy import *\n",
        "from matplotlib import pyplot as plt"
      ]
    },
    {
      "cell_type": "code",
      "execution_count": null,
      "metadata": {
        "colab": {
          "base_uri": "https://localhost:8080/"
        },
        "id": "u3uHs0NOvQjq",
        "outputId": "5ad5fcb2-8fec-45c5-8c9b-4d3b660ac1ac"
      },
      "outputs": [
        {
          "name": "stdout",
          "output_type": "stream",
          "text": [
            "Choose BVP: 1\n"
          ]
        }
      ],
      "source": [
        "while True:\n",
        "  try:\n",
        "    selectionBVP = int(input(\"Choose BVP: \"))\n",
        "    if(selectionBVP == 1):\n",
        "      alpha = np.array([[1, 0, 0],[0, 1, 0],[0, 0, 1]])\n",
        "      beta = np.array([[0, 0, 0],[0, 0, 0],[0, 0, 0]])\n",
        "      break;\n",
        "    elif(selectionBVP == 2):\n",
        "      alpha = np.array([[0, 0, 0],[0, 0, 0],[0, 0, 0]])\n",
        "      beta = np.array([[1, 0, 0],[0, 1, 0],[0, 0, 1]])\n",
        "      break;\n",
        "    elif(selectionBVP == 3):\n",
        "      alpha = np.array([[1, 0, 0],[0, 1, 0],[0, 0, 0]])\n",
        "      beta = np.array([[0, 0, 0],[0, 0, 0],[0, 0, 1]])\n",
        "      break;\n",
        "    elif(selectionBVP == 4):\n",
        "      alpha = np.array([[0, 0, 0],[0, 0, 0],[0, 0, 1]])\n",
        "      beta = np.array([[1, 0, 0],[0, 1, 0],[0, 0, 0]])\n",
        "      break;\n",
        "    else:\n",
        "      print(\"You have to choose in range 1 to 4. Try again ...\")\n",
        "  except ValueError:\n",
        "    print(\"Oops!  That was no valid number.  Try again...\")\n",
        "    continue"
      ]
    },
    {
      "cell_type": "code",
      "execution_count": null,
      "metadata": {
        "id": "UQMnffAlGpjL"
      },
      "outputs": [],
      "source": [
        "rockParameters = pd.DataFrame({\n",
        "        'granite': [2.61, 4.02, 0.26, 2.4, 946, 0.8, 5600, 2750, 1.974, 4.24, 13.3, 1.7, 9.27],\n",
        "        'sandstone': [2.69, 4.13, 0.09, 1.66, 972, 0.64, 3272, 1293, 0.45, 1.98, 2.5, 0.44, 9.86],\n",
        "        'silicified shale':[2.72, 5.2, 0.21, 2.4, 887, 0.53, 3243, 1808, 0.89, 1.08, 2.65, 0.32, 11.27],\n",
        "        'silistone':[2.69, 3.87, 0.29, 1.49, 880, 0.5, 2390, 1204, 0.39, 0.756, 1.5, 0.29, 10.28],\n",
        "        'shales':[2.77, 5.25, 0.15, 2.46, 866, 0.68, 4493, 2879, 2.296, 1, 5.2, 0.6, 9.46],\n",
        "          }, index=['Density', 'Youngs modulus', 'Poisson ratio', 'Thermal conductivity', 'Heat capacity', 'Thermal expansion', 'Velocity of p waves', 'Velosity of s waves', 'Shear modulus', 'Lame parameter', 'Thermoelastic parameter gamma', 'Thermal expansion eta', 'Thermal conductivity kappa'])"
      ]
    },
    {
      "cell_type": "code",
      "execution_count": null,
      "metadata": {
        "colab": {
          "base_uri": "https://localhost:8080/",
          "height": 457
        },
        "id": "MES-DzsQJRkA",
        "outputId": "0f57af1e-b378-4d3e-c896-2f4511dc22c1"
      },
      "outputs": [
        {
          "output_type": "execute_result",
          "data": {
            "text/plain": [
              "                                granite  sandstone  silicified shale  \\\n",
              "Density                           2.610       2.69              2.72   \n",
              "Youngs modulus                    4.020       4.13              5.20   \n",
              "Poisson ratio                     0.260       0.09              0.21   \n",
              "Thermal conductivity              2.400       1.66              2.40   \n",
              "Heat capacity                   946.000     972.00            887.00   \n",
              "Thermal expansion                 0.800       0.64              0.53   \n",
              "Velocity of p waves            5600.000    3272.00           3243.00   \n",
              "Velosity of s waves            2750.000    1293.00           1808.00   \n",
              "Shear modulus                     1.974       0.45              0.89   \n",
              "Lame parameter                    4.240       1.98              1.08   \n",
              "Thermoelastic parameter gamma    13.300       2.50              2.65   \n",
              "Thermal expansion eta             1.700       0.44              0.32   \n",
              "Thermal conductivity kappa        9.270       9.86             11.27   \n",
              "\n",
              "                               silistone    shales  \n",
              "Density                            2.690     2.770  \n",
              "Youngs modulus                     3.870     5.250  \n",
              "Poisson ratio                      0.290     0.150  \n",
              "Thermal conductivity               1.490     2.460  \n",
              "Heat capacity                    880.000   866.000  \n",
              "Thermal expansion                  0.500     0.680  \n",
              "Velocity of p waves             2390.000  4493.000  \n",
              "Velosity of s waves             1204.000  2879.000  \n",
              "Shear modulus                      0.390     2.296  \n",
              "Lame parameter                     0.756     1.000  \n",
              "Thermoelastic parameter gamma      1.500     5.200  \n",
              "Thermal expansion eta              0.290     0.600  \n",
              "Thermal conductivity kappa        10.280     9.460  "
            ],
            "text/html": [
              "\n",
              "  <div id=\"df-b038e3be-d5bf-4bd3-8b0d-1a642e829784\">\n",
              "    <div class=\"colab-df-container\">\n",
              "      <div>\n",
              "<style scoped>\n",
              "    .dataframe tbody tr th:only-of-type {\n",
              "        vertical-align: middle;\n",
              "    }\n",
              "\n",
              "    .dataframe tbody tr th {\n",
              "        vertical-align: top;\n",
              "    }\n",
              "\n",
              "    .dataframe thead th {\n",
              "        text-align: right;\n",
              "    }\n",
              "</style>\n",
              "<table border=\"1\" class=\"dataframe\">\n",
              "  <thead>\n",
              "    <tr style=\"text-align: right;\">\n",
              "      <th></th>\n",
              "      <th>granite</th>\n",
              "      <th>sandstone</th>\n",
              "      <th>silicified shale</th>\n",
              "      <th>silistone</th>\n",
              "      <th>shales</th>\n",
              "    </tr>\n",
              "  </thead>\n",
              "  <tbody>\n",
              "    <tr>\n",
              "      <th>Density</th>\n",
              "      <td>2.610</td>\n",
              "      <td>2.69</td>\n",
              "      <td>2.72</td>\n",
              "      <td>2.690</td>\n",
              "      <td>2.770</td>\n",
              "    </tr>\n",
              "    <tr>\n",
              "      <th>Youngs modulus</th>\n",
              "      <td>4.020</td>\n",
              "      <td>4.13</td>\n",
              "      <td>5.20</td>\n",
              "      <td>3.870</td>\n",
              "      <td>5.250</td>\n",
              "    </tr>\n",
              "    <tr>\n",
              "      <th>Poisson ratio</th>\n",
              "      <td>0.260</td>\n",
              "      <td>0.09</td>\n",
              "      <td>0.21</td>\n",
              "      <td>0.290</td>\n",
              "      <td>0.150</td>\n",
              "    </tr>\n",
              "    <tr>\n",
              "      <th>Thermal conductivity</th>\n",
              "      <td>2.400</td>\n",
              "      <td>1.66</td>\n",
              "      <td>2.40</td>\n",
              "      <td>1.490</td>\n",
              "      <td>2.460</td>\n",
              "    </tr>\n",
              "    <tr>\n",
              "      <th>Heat capacity</th>\n",
              "      <td>946.000</td>\n",
              "      <td>972.00</td>\n",
              "      <td>887.00</td>\n",
              "      <td>880.000</td>\n",
              "      <td>866.000</td>\n",
              "    </tr>\n",
              "    <tr>\n",
              "      <th>Thermal expansion</th>\n",
              "      <td>0.800</td>\n",
              "      <td>0.64</td>\n",
              "      <td>0.53</td>\n",
              "      <td>0.500</td>\n",
              "      <td>0.680</td>\n",
              "    </tr>\n",
              "    <tr>\n",
              "      <th>Velocity of p waves</th>\n",
              "      <td>5600.000</td>\n",
              "      <td>3272.00</td>\n",
              "      <td>3243.00</td>\n",
              "      <td>2390.000</td>\n",
              "      <td>4493.000</td>\n",
              "    </tr>\n",
              "    <tr>\n",
              "      <th>Velosity of s waves</th>\n",
              "      <td>2750.000</td>\n",
              "      <td>1293.00</td>\n",
              "      <td>1808.00</td>\n",
              "      <td>1204.000</td>\n",
              "      <td>2879.000</td>\n",
              "    </tr>\n",
              "    <tr>\n",
              "      <th>Shear modulus</th>\n",
              "      <td>1.974</td>\n",
              "      <td>0.45</td>\n",
              "      <td>0.89</td>\n",
              "      <td>0.390</td>\n",
              "      <td>2.296</td>\n",
              "    </tr>\n",
              "    <tr>\n",
              "      <th>Lame parameter</th>\n",
              "      <td>4.240</td>\n",
              "      <td>1.98</td>\n",
              "      <td>1.08</td>\n",
              "      <td>0.756</td>\n",
              "      <td>1.000</td>\n",
              "    </tr>\n",
              "    <tr>\n",
              "      <th>Thermoelastic parameter gamma</th>\n",
              "      <td>13.300</td>\n",
              "      <td>2.50</td>\n",
              "      <td>2.65</td>\n",
              "      <td>1.500</td>\n",
              "      <td>5.200</td>\n",
              "    </tr>\n",
              "    <tr>\n",
              "      <th>Thermal expansion eta</th>\n",
              "      <td>1.700</td>\n",
              "      <td>0.44</td>\n",
              "      <td>0.32</td>\n",
              "      <td>0.290</td>\n",
              "      <td>0.600</td>\n",
              "    </tr>\n",
              "    <tr>\n",
              "      <th>Thermal conductivity kappa</th>\n",
              "      <td>9.270</td>\n",
              "      <td>9.86</td>\n",
              "      <td>11.27</td>\n",
              "      <td>10.280</td>\n",
              "      <td>9.460</td>\n",
              "    </tr>\n",
              "  </tbody>\n",
              "</table>\n",
              "</div>\n",
              "      <button class=\"colab-df-convert\" onclick=\"convertToInteractive('df-b038e3be-d5bf-4bd3-8b0d-1a642e829784')\"\n",
              "              title=\"Convert this dataframe to an interactive table.\"\n",
              "              style=\"display:none;\">\n",
              "        \n",
              "  <svg xmlns=\"http://www.w3.org/2000/svg\" height=\"24px\"viewBox=\"0 0 24 24\"\n",
              "       width=\"24px\">\n",
              "    <path d=\"M0 0h24v24H0V0z\" fill=\"none\"/>\n",
              "    <path d=\"M18.56 5.44l.94 2.06.94-2.06 2.06-.94-2.06-.94-.94-2.06-.94 2.06-2.06.94zm-11 1L8.5 8.5l.94-2.06 2.06-.94-2.06-.94L8.5 2.5l-.94 2.06-2.06.94zm10 10l.94 2.06.94-2.06 2.06-.94-2.06-.94-.94-2.06-.94 2.06-2.06.94z\"/><path d=\"M17.41 7.96l-1.37-1.37c-.4-.4-.92-.59-1.43-.59-.52 0-1.04.2-1.43.59L10.3 9.45l-7.72 7.72c-.78.78-.78 2.05 0 2.83L4 21.41c.39.39.9.59 1.41.59.51 0 1.02-.2 1.41-.59l7.78-7.78 2.81-2.81c.8-.78.8-2.07 0-2.86zM5.41 20L4 18.59l7.72-7.72 1.47 1.35L5.41 20z\"/>\n",
              "  </svg>\n",
              "      </button>\n",
              "      \n",
              "  <style>\n",
              "    .colab-df-container {\n",
              "      display:flex;\n",
              "      flex-wrap:wrap;\n",
              "      gap: 12px;\n",
              "    }\n",
              "\n",
              "    .colab-df-convert {\n",
              "      background-color: #E8F0FE;\n",
              "      border: none;\n",
              "      border-radius: 50%;\n",
              "      cursor: pointer;\n",
              "      display: none;\n",
              "      fill: #1967D2;\n",
              "      height: 32px;\n",
              "      padding: 0 0 0 0;\n",
              "      width: 32px;\n",
              "    }\n",
              "\n",
              "    .colab-df-convert:hover {\n",
              "      background-color: #E2EBFA;\n",
              "      box-shadow: 0px 1px 2px rgba(60, 64, 67, 0.3), 0px 1px 3px 1px rgba(60, 64, 67, 0.15);\n",
              "      fill: #174EA6;\n",
              "    }\n",
              "\n",
              "    [theme=dark] .colab-df-convert {\n",
              "      background-color: #3B4455;\n",
              "      fill: #D2E3FC;\n",
              "    }\n",
              "\n",
              "    [theme=dark] .colab-df-convert:hover {\n",
              "      background-color: #434B5C;\n",
              "      box-shadow: 0px 1px 3px 1px rgba(0, 0, 0, 0.15);\n",
              "      filter: drop-shadow(0px 1px 2px rgba(0, 0, 0, 0.3));\n",
              "      fill: #FFFFFF;\n",
              "    }\n",
              "  </style>\n",
              "\n",
              "      <script>\n",
              "        const buttonEl =\n",
              "          document.querySelector('#df-b038e3be-d5bf-4bd3-8b0d-1a642e829784 button.colab-df-convert');\n",
              "        buttonEl.style.display =\n",
              "          google.colab.kernel.accessAllowed ? 'block' : 'none';\n",
              "\n",
              "        async function convertToInteractive(key) {\n",
              "          const element = document.querySelector('#df-b038e3be-d5bf-4bd3-8b0d-1a642e829784');\n",
              "          const dataTable =\n",
              "            await google.colab.kernel.invokeFunction('convertToInteractive',\n",
              "                                                     [key], {});\n",
              "          if (!dataTable) return;\n",
              "\n",
              "          const docLinkHtml = 'Like what you see? Visit the ' +\n",
              "            '<a target=\"_blank\" href=https://colab.research.google.com/notebooks/data_table.ipynb>data table notebook</a>'\n",
              "            + ' to learn more about interactive tables.';\n",
              "          element.innerHTML = '';\n",
              "          dataTable['output_type'] = 'display_data';\n",
              "          await google.colab.output.renderOutput(dataTable, element);\n",
              "          const docLink = document.createElement('div');\n",
              "          docLink.innerHTML = docLinkHtml;\n",
              "          element.appendChild(docLink);\n",
              "        }\n",
              "      </script>\n",
              "    </div>\n",
              "  </div>\n",
              "  "
            ]
          },
          "metadata": {},
          "execution_count": 6
        }
      ],
      "source": [
        "rockParameters"
      ]
    },
    {
      "cell_type": "code",
      "execution_count": null,
      "metadata": {
        "colab": {
          "base_uri": "https://localhost:8080/"
        },
        "id": "uch4ScfmRBUN",
        "outputId": "efc8d6c7-b835-4685-d231-2b4c943f7146"
      },
      "outputs": [
        {
          "output_type": "stream",
          "name": "stdout",
          "text": [
            "Choose parameters of rocks: granite\n",
            "Successfully initialized parameters of  granite !\n"
          ]
        }
      ],
      "source": [
        "column_names_rocks = list(rockParameters.columns)\n",
        "column_names_rocks = [item.lower() for item in column_names_rocks]\n",
        "while True:\n",
        "  try:\n",
        "    selectionRocks = input(\"Choose parameters of rocks: \")\n",
        "    if selectionRocks.lower() in (item.lower() for item in column_names_rocks):\n",
        "      sigmaPar = rockParameters.loc['Density', selectionRocks.lower()] #density of material\n",
        "      youngsMod = rockParameters.loc['Youngs modulus', selectionRocks.lower()] #Young's modulus\n",
        "      nuPar = rockParameters.loc['Poisson ratio', selectionRocks.lower()] #Poisson's ratio\n",
        "      lambdaTPar = rockParameters.loc['Thermal conductivity', selectionRocks.lower()] #thermal conductivity\n",
        "      CTPar = rockParameters.loc['Heat capacity', selectionRocks.lower()] #specific heat capacity\n",
        "      alphaTPar = rockParameters.loc['Thermal expansion', selectionRocks.lower()] #thermal expansion coefficient\n",
        "      velPPar = rockParameters.loc['Velocity of p waves', selectionRocks.lower()] #velocity of (compressional)p waves\n",
        "      velSPar = rockParameters.loc['Velosity of s waves', selectionRocks.lower()] #velocity of shear waves\n",
        "      muPar = rockParameters.loc['Shear modulus', selectionRocks.lower()] #shear modulus\n",
        "      lambdaPar = rockParameters.loc['Lame parameter', selectionRocks.lower()] #the first Lame parameter\n",
        "      gammaPar = rockParameters.loc['Thermoelastic parameter gamma', selectionRocks.lower()] #Gruneisen parameter\n",
        "      etaPar = rockParameters.loc['Thermal expansion eta', selectionRocks.lower()] #coefficient of thermal expansion\n",
        "      kappaPar = rockParameters.loc['Thermal conductivity kappa', selectionRocks.lower()] #thermal conductivity\n",
        "      gammaBarPar = 0.94\n",
        "      print(\"Successfully initialized parameters of \", selectionRocks, \"!\")\n",
        "      break;\n",
        "    elif not selectionRocks.isalpha():\n",
        "      print(\"Oops!  That was no valid input.  Try again...\")\n",
        "      continue\n",
        "    else:\n",
        "      print(\"sorry but we dont have this rock in our base... But you can apply your own values: \")\n",
        "      lambdaPar = input(\"The first Lame parameter lambda \") #the first Lame parameter\n",
        "      youngsMod = input(\"Young's modeulus \") #Young's modulus\n",
        "      nuPar = input(\"Poisson's ration nu \") #Poisson's ratio\n",
        "      gammaPar = input(\"Thermoelastic parameter gamma \") #Gruneisen parameter\n",
        "      etaPar = input(\"Coefficient of thermal expansion eta \") #coefficient of thermal expansion\n",
        "      kappaPar = input(\"Thermal conductivity kappa \") #thermal conductivity\n",
        "      muPar = input(\"Shear modulus mu \") #shear modulus\n",
        "      velSPar = input(\"Velocity of shear waves \") #velocity of shear waves\n",
        "      velPPar = input(\"Velocity of P-waves \") #velocity of (compressional)p waves\n",
        "      alphaTPar = input(\"Theraml expansion coefficient alpha \") #thermal expansion coefficient\n",
        "      CTPar = input(\"Scpecific heat capacity \") #specific heat capacity\n",
        "      lambdaTPar = input(\"Thermal conductivity of lambda \") #thermal conductivity\n",
        "      sigmaPar = input(\"Density of material \") #density of material\n",
        "      gammaBarPar = 0.94\n",
        "      if lambdaPar.isdigit() and youngsMod.isdigit() and nuPar.isdigit() and nuPar.isdigit() and gammaPar.isdigit() and etaPar.isdigit() and kappaPar.isdigit() and muPar.isdigit() and velSPar.isdigit() and velPPar.isdigit() and alphaTPar.isdigit() and CTPar.isdigit() and lambdaTPar.isdigit() and sigmaPar.isDigit():\n",
        "        rockParameters[selectionRocks] = [float(sigmaPar), float(youngsMod), float(nuPar), float(lambdaTPar), float(CTPar),\n",
        "                                            float(alphaTPar), float(velPPar), float(velSPar), float(muPar), float(lambdaPar),\n",
        "                                            float(gammaPar), float(etaPar), float(kappaPar)]\n",
        "        print(\"Successfully initialized parameters of \", selectionRocks, \"!\")\n",
        "        break;\n",
        "      else:\n",
        "        print(\"Oops!  That was no valid input.  Try again...\")\n",
        "        continue\n",
        "  except ValueError:\n",
        "    print(\"Oops!  That was no valid input.  Try again...\")\n",
        "    continue"
      ]
    },
    {
      "cell_type": "markdown",
      "metadata": {
        "id": "By4oAYD4fmsk"
      },
      "source": [
        "\n",
        "$\\varepsilon = \\dfrac{\\gamma \\eta \\kappa}{\\lambda + 2\\eta}$\n",
        "\n",
        "To represent material constants that depend on the elastic properties of the material being studied\n",
        "\n",
        "$c1^2 = \\frac{λ + 2μ}{\\rho} \\\\\n",
        "c2^2 = \\frac{μ}{\\rho}$"
      ]
    },
    {
      "cell_type": "code",
      "execution_count": null,
      "metadata": {
        "id": "qf8_XvTVfoYb",
        "colab": {
          "base_uri": "https://localhost:8080/"
        },
        "outputId": "2615d91f-1374-44c5-e429-28ce04074c0a"
      },
      "outputs": [
        {
          "output_type": "stream",
          "name": "stdout",
          "text": [
            "epsilon 27.4338612565445\n",
            "the propagation velocities of dilational shear waves\n",
            "3.137164750957855 0.7563218390804598\n"
          ]
        }
      ],
      "source": [
        "epsilonPar = (gammaPar* etaPar*kappaPar)/(lambdaPar + 2* etaPar)\n",
        "print(\"epsilon\", epsilonPar)\n",
        "cPar_1 = (lambdaPar + 2*muPar)/sigmaPar\n",
        "cPar_2 = muPar/sigmaPar\n",
        "print(\"the propagation velocities of dilational shear waves\")\n",
        "print(cPar_1, cPar_2)"
      ]
    },
    {
      "cell_type": "code",
      "execution_count": null,
      "metadata": {
        "id": "5xdkESUwdtJ0"
      },
      "outputs": [],
      "source": [
        "xiPar = 1\n",
        "xiBarPar = xiPar/sigmaPar"
      ]
    },
    {
      "cell_type": "markdown",
      "metadata": {
        "id": "hGoX6p6YyIgx"
      },
      "source": [
        "Define BVP, this code specifically solves it for BVP1 $ \\alpha_{11}=\\alpha_{22}=\\alpha_{33}=1;$ \\\\\n",
        "All the other corresponding variables equal to $0$."
      ]
    },
    {
      "cell_type": "code",
      "execution_count": null,
      "metadata": {
        "id": "IRQA_KSxSICD"
      },
      "outputs": [],
      "source": [
        "n = np.array([1, 0, 0]) #normal n(x) on the free surface"
      ]
    },
    {
      "cell_type": "code",
      "execution_count": null,
      "metadata": {
        "id": "DDlytaZKJnQv"
      },
      "outputs": [],
      "source": [
        "def Kronecker(i,j): #Kronecker's delta\n",
        "  if i==j:\n",
        "    return 1\n",
        "  else:\n",
        "    return 0"
      ]
    },
    {
      "cell_type": "markdown",
      "metadata": {
        "id": "3omJA0sA8pMp"
      },
      "source": [
        "\\begin{equation}\n",
        "    \\begin{gathered}\n",
        "        D_{i z}\\left(n, \\partial_1, \\partial_2\\right)=\\lambda n_i \\delta_{j z} \\partial_j-\\gamma n_i \\delta_{3 z}+\\mu n_j \\delta_{z i} \\partial_j+\\mu n_z \\partial_i\n",
        "    \\end{gathered}\n",
        "\\end{equation}"
      ]
    },
    {
      "cell_type": "code",
      "execution_count": null,
      "metadata": {
        "id": "NOtzN-Px0QjI"
      },
      "outputs": [],
      "source": [
        "def D_iz():\n",
        "    Diz = np.zeros((3, 3))\n",
        "    for i in range(3):\n",
        "        for z in range(3):\n",
        "          Diz[i, z] += muPar * n[z]\n",
        "          Diz[i, z] += -gammaPar * n[i] * Kronecker(2, z)\n",
        "          for j in range(3):\n",
        "              Diz[i, z] += lambdaPar * n[i] * Kronecker(j, z)\n",
        "              Diz[i, z] += muPar * n[j] * Kronecker(z, i)\n",
        "    return Diz"
      ]
    },
    {
      "cell_type": "code",
      "execution_count": null,
      "metadata": {
        "id": "JeARQZi5uHy3",
        "colab": {
          "base_uri": "https://localhost:8080/"
        },
        "outputId": "87acf582-2983-4681-e4f1-31df0c7c5b4f"
      },
      "outputs": [
        {
          "output_type": "execute_result",
          "data": {
            "text/plain": [
              "array([[ 8.188,  4.24 , -9.06 ],\n",
              "       [ 1.974,  1.974,  0.   ],\n",
              "       [ 1.974,  0.   ,  1.974]])"
            ]
          },
          "metadata": {},
          "execution_count": 13
        }
      ],
      "source": [
        "D_iz()"
      ]
    },
    {
      "cell_type": "code",
      "execution_count": null,
      "metadata": {
        "id": "A4M7ujkUx_R9"
      },
      "outputs": [],
      "source": [
        "def B():\n",
        "  B_matrix = np.zeros((3, 3))\n",
        "  for z in range(3):\n",
        "      for j in range(3):\n",
        "          B_matrix[z,j] = alpha[z,j] + alpha[z,2] * Kronecker(j,2) + beta[z,2] * Kronecker(j,2)\n",
        "          for l in range(3):\n",
        "              B_matrix[z,j] += beta[z,l] * D_iz()[l, j]\n",
        "  return B_matrix"
      ]
    },
    {
      "cell_type": "code",
      "execution_count": null,
      "metadata": {
        "id": "1dWj69vOsoKI",
        "colab": {
          "base_uri": "https://localhost:8080/"
        },
        "outputId": "e081cd2d-8300-47ee-b42e-8616f6361382"
      },
      "outputs": [
        {
          "output_type": "execute_result",
          "data": {
            "text/plain": [
              "array([[1., 0., 0.],\n",
              "       [0., 1., 0.],\n",
              "       [0., 0., 2.]])"
            ]
          },
          "metadata": {},
          "execution_count": 15
        }
      ],
      "source": [
        "B()"
      ]
    },
    {
      "cell_type": "markdown",
      "metadata": {
        "id": "B_E1sWzurRKG"
      },
      "source": [
        "Let's find the roots of equation\n",
        "\n",
        "\\begin{equation}\n",
        "    k_1(\\xi, \\omega)=\\pm \\sqrt{\\xi^2-\\frac{\\omega^2}{c_2^2}}\n",
        "\\end{equation}\n",
        "\n",
        "\\begin{equation}\n",
        "\\begin{aligned}\n",
        " k_2^2=\\xi^2-\\frac{1}{2}\\left[\\frac{\\omega^2}{c_1^2}+\\frac{i \\omega(1+\\varepsilon)}{\\kappa}+\\sqrt{\\left(\\frac{\\omega^2}{c_1^2}+\\frac{i \\omega(1+\\varepsilon)}{\\kappa}\\right)^2-\\frac{4 i \\omega^3}{\\kappa c_1^2}}\\right]\n",
        "\\end{aligned}\n",
        "\\end{equation}\n",
        "\n",
        "\\begin{equation}\n",
        "\\begin{aligned}\n",
        "k_3^2=\\xi^2-\\frac{1}{2}\\left[\\frac{\\omega^2}{c_1^2}+\\frac{i \\omega(1+\\varepsilon)}{\\kappa}-\\sqrt{\\left(\\frac{\\omega^2}{c_1^2}+\\frac{i \\omega(1+\\varepsilon)}{\\kappa}\\right)^2-\\frac{4 i \\omega^3}{\\kappa c_1^2}}\\right]\n",
        "\\end{aligned}\n",
        "\\end{equation}"
      ]
    },
    {
      "cell_type": "code",
      "execution_count": null,
      "metadata": {
        "id": "KEGEvzMsraqA"
      },
      "outputs": [],
      "source": [
        "def root_K1(xiPar, omegaPar):\n",
        "  rootK1_sq = math.pow(xiPar, 2) - (math.pow(omegaPar, 2)/cPar_2)\n",
        "  return rootK1_sq\n",
        "\n",
        "def root_K2(xiPar, omegaPar):\n",
        "  temp1 = omegaPar**2/cPar_1 + 1j*omegaPar*(1+epsilonPar)/kappaPar\n",
        "  temp2 = (omegaPar**2/cPar_1 + 1j*omegaPar*(1+epsilonPar)/kappaPar)**2 - 4j*omegaPar**3/(kappaPar*cPar_1)\n",
        "  rootK2_sq = xiPar**2 - 0.5*(temp1 + np.sqrt(temp2))\n",
        "  return rootK2_sq\n",
        "\n",
        "def root_K3(xiPar, omegaPar):\n",
        "  temp1 = omegaPar**2/cPar_1 + 1j*omegaPar*(1+epsilonPar)/kappaPar\n",
        "  temp2 = (omegaPar**2/cPar_1 + 1j*omegaPar*(1+epsilonPar)/kappaPar)**2 - 4j*omegaPar**3/(kappaPar*cPar_1)\n",
        "  rootK3_sq = xiPar**2 - 0.5*(temp1 - np.sqrt(temp2))\n",
        "  return rootK3_sq"
      ]
    },
    {
      "cell_type": "markdown",
      "metadata": {
        "id": "QvgMizs95LBl"
      },
      "source": [
        "\n",
        "> Let's plot a change in root K according to change in $\\omega$\n",
        "\n"
      ]
    },
    {
      "cell_type": "code",
      "execution_count": null,
      "metadata": {
        "id": "xk6kCf3Q5Kd1"
      },
      "outputs": [],
      "source": [
        "def plottingK1(xiPar):\n",
        "  omegaChange = np.linspace(1, 11, 10)\n",
        "  KRoot1Change = np.zeros((10), dtype = \"complex\")\n",
        "  for i in range(len(omegaChange)):\n",
        "    KRoot1Change[i] = root_K1(xiPar, omegaChange[i])\n",
        "  fig, ax = plt.subplots(figsize=(6, 6))\n",
        "  ax.plot(np.real(KRoot1Change), np.imag(KRoot1Change), '-.r*')\n",
        "  ax.set_xlabel('Real part')\n",
        "  ax.set_ylabel('Imaginary part')\n",
        "  ax.set_title('root_K1(xiPar={}, omega)'.format(xiPar))\n",
        "  plt.savefig('plot.png')\n",
        "  plt.show()\n",
        "\n",
        "def plottingK2(xiPar):\n",
        "  omegaChange = np.linspace(1, 11, 10)\n",
        "  KRoot2Change = np.zeros((10), dtype = \"complex\")\n",
        "  for i in range(len(omegaChange)):\n",
        "    KRoot2Change[i] = root_K2(xiPar, omegaChange[i])\n",
        "  fig, ax = plt.subplots(figsize=(6, 6))\n",
        "  ax.plot(np.real(KRoot2Change), np.imag(KRoot2Change), '-.r*')\n",
        "  ax.set_xlabel('Real part')\n",
        "  ax.set_ylabel('Imaginary part')\n",
        "  ax.set_title('root_K2(xiPar={}, omega)'.format(xiPar))\n",
        "  plt.savefig('plot.png')\n",
        "  plt.show()\n",
        "\n",
        "def plottingK3(xiPar):\n",
        "  omegaChangeRoot3 = np.linspace(1, 11, 10)\n",
        "  KRoot3Change = np.zeros((10), dtype = \"complex\")\n",
        "  for i in range(len(omegaChangeRoot3)):\n",
        "    KRoot3Change[i] = root_K3(xiPar, omegaChangeRoot3[i])\n",
        "  fig, ax = plt.subplots(figsize=(6, 4))\n",
        "  ax.plot(np.real(KRoot3Change), np.imag(KRoot3Change), '-.r*')\n",
        "  ax.set_xlabel('Real part')\n",
        "  ax.set_ylabel('Imaginary part')\n",
        "  ax.set_title('root_K3(xiPar={}, omega)'.format(xiPar))\n",
        "  plt.savefig('plot.png')\n",
        "  plt.show()"
      ]
    },
    {
      "cell_type": "code",
      "execution_count": null,
      "metadata": {
        "id": "qNhWO7f4Dsxi",
        "colab": {
          "base_uri": "https://localhost:8080/",
          "height": 1000
        },
        "outputId": "bf455eb3-d711-40f1-80ba-9907346523bd"
      },
      "outputs": [
        {
          "output_type": "display_data",
          "data": {
            "text/plain": [
              "<Figure size 600x600 with 1 Axes>"
            ],
            "image/png": "[encoded data removed]"
          },
          "metadata": {}
        },
        {
          "output_type": "display_data",
          "data": {
            "text/plain": [
              "<Figure size 600x600 with 1 Axes>"
            ],
            "image/png": "[encoded data removed]"
          },
          "metadata": {}
        },
        {
          "output_type": "display_data",
          "data": {
            "text/plain": [
              "<Figure size 600x400 with 1 Axes>"
            ],
            "image/png": "[encoded data removed]"
          },
          "metadata": {}
        }
      ],
      "source": [
        "plottingK1(1.5)\n",
        "plottingK2(1.5)\n",
        "plottingK3(1.5)"
      ]
    },
    {
      "cell_type": "code",
      "execution_count": null,
      "metadata": {
        "id": "F3dt0kjMCzvu",
        "colab": {
          "base_uri": "https://localhost:8080/"
        },
        "outputId": "c5b45230-572e-4d86-e381-9691db1a5094"
      },
      "outputs": [
        {
          "output_type": "execute_result",
          "data": {
            "text/plain": [
              "array([-1.32218445e+06+0.00000000e+00j, -3.18755160e+05-3.06729895e+03j,\n",
              "        4.00000000e+00+2.27373675e-13j])"
            ]
          },
          "metadata": {},
          "execution_count": 19
        }
      ],
      "source": [
        "def kRootList(xiPar, omegaChange):\n",
        "  kRootList = np.array([root_K1(xiPar, omegaChange), root_K2(xiPar, omegaChange), root_K3(xiPar, omegaChange)])\n",
        "  return kRootList\n",
        "kRootList(2, 1000)"
      ]
    },
    {
      "cell_type": "markdown",
      "metadata": {
        "id": "nxOlACHPJo63"
      },
      "source": [
        "\\begin{equation*}\n",
        "\\begin{aligned}\n",
        "& v_1^m\\left(k_j(\\xi, \\omega)\\right)=v_{1(j)}^m(\\xi, \\omega)=\\frac{\\Delta_{j 1}(\\xi, \\omega)}{\\Delta_j(\\xi, \\omega)}, \\\\\n",
        "& v_2^m\\left(k_j(\\xi, \\omega)\\right)=v_{2(j)}^m(\\xi, \\omega)=\\frac{\\Delta_{j 2}(\\xi, \\omega)}{\\Delta_j(\\xi, \\omega)}, \\\\\n",
        "& \\Delta_j(\\xi, \\omega)=\\operatorname{det}\\left\\{\\begin{array}{rr}\n",
        "c_1^2 k_j^2+\\omega^2-c_2^2 \\xi^2, & i\\left(c_1^2-c_2^2\\right) \\xi k_j \\\\\n",
        "i\\left(c_1^2-c_2^2\\right) \\xi k_j, & \\omega^2-c_1^2 \\xi^2+c_2^2 k_j^2\n",
        "\\end{array}\\right\\}, \\\\\n",
        "& \\Delta_{j 1}(\\xi, \\omega)=\\operatorname{det}\\left\\{\\begin{array}{rr}\n",
        "\\tilde{\\gamma} k_j, & i\\left(c_1^2-c_2^2\\right) \\xi k_j \\\\\n",
        "i \\tilde{\\gamma} \\xi, & \\omega^2-c_1^2 \\xi^2+c_2^2 k_j^2\n",
        "\\end{array}\\right\\}, \\\\\n",
        "& \\Delta_{j 2}(\\xi, \\omega)=\\operatorname{det}\\left\\{\\begin{aligned}\n",
        "c_1^2 k_j^2+\\omega^2-c_2^2 \\xi^2, & \\tilde{\\gamma} k_j \\\\\n",
        "i\\left(c_1^2-c_2^2\\right) \\xi k_j, & i \\tilde{\\gamma} \\xi\n",
        "\\end{aligned}\\right\\} . \\\\\n",
        "&\n",
        "\\end{aligned}\n",
        "\\end{equation*}\n"
      ]
    },
    {
      "cell_type": "code",
      "execution_count": null,
      "metadata": {
        "id": "4f6xyJRR3JIk"
      },
      "outputs": [],
      "source": [
        "def vListTotal(xiPar, omegaChange):\n",
        "  vListTotal = np.zeros((3, 3),dtype = 'complex_')\n",
        "  v1Element = np.zeros((3),dtype = 'complex_')\n",
        "  v2Element = np.zeros((3),dtype = 'complex_')\n",
        "  v3Element = np.array([1, 1, 1], dtype='complex_')\n",
        "  DeltaMatrixDetJList = np.zeros((3),dtype = 'complex_')\n",
        "  DeltaMatrixDetJ1List = np.zeros((3),dtype = 'complex_')\n",
        "  DeltaMatrixDetJ2List = np.zeros((3),dtype = 'complex_')\n",
        "  for j in range(3):\n",
        "   DeltaMatrixJ = np.array([[cPar_1 * kRootList(xiPar, omegaChange)[j]\n",
        "                              + omegaChange**2 - cPar_2 * xiPar**2, 1j\n",
        "                              * (cPar_1 - cPar_2) * xiPar\n",
        "                              * np.sqrt(kRootList(xiPar, omegaChange)[j])],\n",
        "                              [1j * (cPar_1 - cPar_2) * xiPar\n",
        "                               * np.sqrt(kRootList(xiPar, omegaChange)[j]),\n",
        "                               omegaChange**2 - cPar_1 * xiPar**2 + cPar_2\n",
        "                               * kRootList(xiPar, omegaChange)[j]]])\n",
        "   DeltaMatrixJ1 = np.array([[gammaBarPar *\n",
        "                               np.sqrt(kRootList(xiPar, omegaChange)[j]),\n",
        "                               1j * (cPar_1 - cPar_2) * xiPar *\n",
        "                               np.sqrt(kRootList(xiPar, omegaChange)[j])],\n",
        "                              [1j * gammaBarPar * xiPar, omegaChange**2\n",
        "                               - cPar_1*xiPar**2\n",
        "                               + cPar_2*kRootList(xiPar, omegaChange)[j]]])\n",
        "   DeltaMatrixJ2 = np.array([[cPar_1 * kRootList(xiPar, omegaChange)[j]\n",
        "                               + omegaChange**2 - cPar_2*xiPar**2, gammaBarPar\n",
        "                               * np.sqrt(kRootList(xiPar, omegaChange)[j])],\n",
        "                              [1j * (cPar_1 - cPar_2)* xiPar *\n",
        "                               np.sqrt(kRootList(xiPar, omegaChange)[j]),\n",
        "                               1j * gammaBarPar * xiPar]])\n",
        "   DeltaMatrixDetJList[j] = np.linalg.det(DeltaMatrixJ)\n",
        "   DeltaMatrixDetJ1List[j] = np.linalg.det(DeltaMatrixJ1)\n",
        "   DeltaMatrixDetJ2List[j] = np.linalg.det(DeltaMatrixJ2)\n",
        "  for j in range(3):\n",
        "    v1Element[j] = DeltaMatrixDetJ1List[j]/DeltaMatrixDetJList[j]\n",
        "    v2Element[j] = DeltaMatrixDetJ2List[j]/DeltaMatrixDetJList[j]\n",
        "  vListTotal = np.array([v1Element, v2Element, v3Element])\n",
        "  return vListTotal\n"
      ]
    },
    {
      "cell_type": "code",
      "execution_count": null,
      "metadata": {
        "id": "THNhkFl3XC0q",
        "colab": {
          "base_uri": "https://localhost:8080/"
        },
        "outputId": "2d630c19-e85d-4430-fea8-835f60ba1bf9"
      },
      "outputs": [
        {
          "output_type": "execute_result",
          "data": {
            "text/plain": [
              "array([[-0.00000000e+00-3.43348461e-04j,  5.51528627e-02+2.65354766e-04j,\n",
              "         1.88000000e-06+5.34314727e-20j],\n",
              "       [-0.00000000e+00-4.60049317e-06j, -1.95372942e-04-5.28921875e-19j,\n",
              "         1.34102032e-24+1.88000000e-06j],\n",
              "       [ 1.00000000e+00+0.00000000e+00j,  1.00000000e+00+0.00000000e+00j,\n",
              "         1.00000000e+00+0.00000000e+00j]])"
            ]
          },
          "metadata": {},
          "execution_count": 21
        }
      ],
      "source": [
        "vListTotal(2, 1000)"
      ]
    },
    {
      "cell_type": "markdown",
      "metadata": {
        "id": "_WhKqD55iHOe"
      },
      "source": [
        "\n",
        "\n",
        "\\begin{equation}\n",
        "b_{l j}^m(\\xi, \\omega)=\\sum_{k=1}^3 \\mathrm{~B}_{l k}\\left(k_j,-i \\xi\\right) v_{k(j)}^m(\\xi, \\omega)\n",
        "\\end{equation}"
      ]
    },
    {
      "cell_type": "code",
      "execution_count": null,
      "metadata": {
        "id": "ke-9J45ghZRs"
      },
      "outputs": [],
      "source": [
        "def b_lj(xiPar, omegaChange):\n",
        "  b_ljMatrix = np.zeros((3,3),dtype = 'complex_')\n",
        "  for k in range(3):\n",
        "    for l in range(3):\n",
        "      for j in range(3):\n",
        "        b_ljMatrix[l, j] +=B()[l, k] * vListTotal(xiPar, omegaChange)[k, j]\n",
        "  return b_ljMatrix\n"
      ]
    },
    {
      "cell_type": "code",
      "execution_count": null,
      "metadata": {
        "id": "6KSpdRhpkXGB",
        "colab": {
          "base_uri": "https://localhost:8080/"
        },
        "outputId": "caabffca-ddad-44b7-9fff-3a5ded6e52c1"
      },
      "outputs": [
        {
          "output_type": "execute_result",
          "data": {
            "text/plain": [
              "array([[ 0.00000000e+00-3.43360709e-04j,  5.51531223e-02+2.65353518e-04j,\n",
              "         9.40000000e-07+1.06864957e-19j],\n",
              "       [ 0.00000000e+00-1.11717863e-06j, -9.76864711e-05-1.24776743e-18j,\n",
              "         6.70510159e-25+9.40000000e-07j],\n",
              "       [ 2.00000000e+00+0.00000000e+00j,  2.00000000e+00+0.00000000e+00j,\n",
              "         2.00000000e+00+0.00000000e+00j]])"
            ]
          },
          "metadata": {},
          "execution_count": 23
        }
      ],
      "source": [
        "b_lj(1, 1000)"
      ]
    },
    {
      "cell_type": "markdown",
      "metadata": {
        "id": "wvjvdgIZmSxV"
      },
      "source": [
        "The matrices $a_{lj}^m $ are obtained from the matrix $b_{lj}^m (\\varepsilon,\\omega) $ by replacing the j-th column with $(\\delta_1^m, \\delta_2^m, \\delta_3^m)^T$ such a procedure should be done for each m = 1,2,3.\n",
        "\n",
        "Kronecker's delta is a discrete analogue of the Dirac delta function, and can be used to represent discrete impulses. In this case, we can use the Kronecker delta function to represent the Dirac delta function numerically by approximating its behavior at a single point."
      ]
    },
    {
      "cell_type": "code",
      "execution_count": null,
      "metadata": {
        "id": "QDIEHb2nmbTs"
      },
      "outputs": [],
      "source": [
        "def a_lj(j, x_1, xiPar, omegaChange):\n",
        "  a = deepcopy(b_lj(xiPar, omegaChange))\n",
        "  new_col = np.zeros((3),dtype = 'complex_')\n",
        "  new_col[0] = Kronecker(j, 0)\n",
        "  new_col[1] = Kronecker(j, 1)\n",
        "  new_col[2] = Kronecker(j, 2)\n",
        "  new_col = new_col.T\n",
        "  a[:, j] = new_col\n",
        "  return a"
      ]
    },
    {
      "cell_type": "code",
      "execution_count": null,
      "metadata": {
        "id": "yz41uBA-LT7d",
        "colab": {
          "base_uri": "https://localhost:8080/"
        },
        "outputId": "264f4d6b-643e-4585-9e42-8fa5e914197e"
      },
      "outputs": [
        {
          "output_type": "execute_result",
          "data": {
            "text/plain": [
              "array([[0.00000000e+00-3.43348461e-04j, 0.00000000e+00+0.00000000e+00j,\n",
              "        1.88000000e-06+5.34314727e-20j],\n",
              "       [0.00000000e+00-4.60049317e-06j, 1.00000000e+00+0.00000000e+00j,\n",
              "        1.34102032e-24+1.88000000e-06j],\n",
              "       [2.00000000e+00+0.00000000e+00j, 0.00000000e+00+0.00000000e+00j,\n",
              "        2.00000000e+00+0.00000000e+00j]])"
            ]
          },
          "metadata": {},
          "execution_count": 25
        }
      ],
      "source": [
        "a_lj(1, 2, 2, 1000)"
      ]
    },
    {
      "cell_type": "code",
      "execution_count": null,
      "metadata": {
        "id": "E_Tr6WpIUpvH"
      },
      "outputs": [],
      "source": [
        "def ATensor(x_1, xiPar, omegaChange):\n",
        "  ATensor = np.zeros((3),dtype = 'complex_')\n",
        "  for j in range(3):\n",
        "    ATensor[j] = np.linalg.det(a_lj(j, x_1, xiPar, omegaChange))/np.linalg.det(b_lj(xiPar, omegaChange))\n",
        "  return ATensor"
      ]
    },
    {
      "cell_type": "code",
      "execution_count": null,
      "metadata": {
        "id": "eNttGvRyXNR8",
        "colab": {
          "base_uri": "https://localhost:8080/"
        },
        "outputId": "2237e12d-997f-422f-a244-9979affd7021"
      },
      "outputs": [
        {
          "output_type": "execute_result",
          "data": {
            "text/plain": [
              "array([-1.40701777+5.0690692j , -0.24984288+4.28116955j,\n",
              "        0.52623045-0.05051958j])"
            ]
          },
          "metadata": {},
          "execution_count": 27
        }
      ],
      "source": [
        "ATensor(2, 2, 10)"
      ]
    },
    {
      "cell_type": "markdown",
      "metadata": {
        "id": "2AiHhHOUbNt4"
      },
      "source": [
        "\n",
        "\\begin{equation}\n",
        "V_k^m\\left(x_1, x_2, \\omega\\right)=\\frac{1}{2 \\pi} \\sum_{j=1}^3 \\int_{-\\infty}^{\\infty} A_j^{[m]}(\\xi, \\omega) v_{k(j)}^m(\\xi, \\omega) \\exp \\left(i k_j(\\xi, \\omega) x_1-i \\xi x_2\\right) d \\xi\n",
        "\\end{equation}\n"
      ]
    },
    {
      "cell_type": "code",
      "execution_count": null,
      "metadata": {
        "id": "NVXr9drJvdIG"
      },
      "outputs": [],
      "source": [
        "def calculate_VTensor(x_1, x_2,xiPar, omegaChange):\n",
        "  ATensorV = ATensor(x_1, xiPar, omegaChange)\n",
        "  vTotalList = vListTotal(xiPar, omegaChange)\n",
        "  kList = kRootList(xiPar, omegaChange)\n",
        "  VTensor = np.zeros((3, len(kList)), dtype=np.complex128)\n",
        "  VTensorElement = complex(0, 0)\n",
        "  for m in range(3):\n",
        "    for k in range(len(kList)):\n",
        "      VTensorElement = complex(0, 0)\n",
        "      for j in range(3):\n",
        "        integrand = lambda xiPar: ATensorV[j] * vTotalList[k, j] * np.exp(1j * kList[j] * x_1 - 1j * xiPar * x_2)\n",
        "        VTensorElement += quad(integrand, -np.inf, np.inf)[0]\n",
        "      VTensorElement *= 1 / (2 * np.pi)\n",
        "      VTensor[k, m] = VTensorElement/np.exp(100)\n",
        "  return VTensor"
      ]
    },
    {
      "cell_type": "code",
      "source": [
        "calculate_VTensor(1, 1, 1, 10)"
      ],
      "metadata": {
        "colab": {
          "base_uri": "https://localhost:8080/"
        },
        "id": "sq3KesUcugfu",
        "outputId": "deecf819-d99b-4cc4-f5f5-59207ea6c1ca"
      },
      "execution_count": null,
      "outputs": [
        {
          "output_type": "stream",
          "name": "stderr",
          "text": [
            "/usr/local/lib/python3.10/dist-packages/scipy/integrate/_quadpack_py.py:577: ComplexWarning: Casting complex values to real discards the imaginary part\n",
            "  return _quadpack._qagie(func,bound,infbounds,args,full_output,epsabs,epsrel,limit)\n",
            "<ipython-input-28-6f8b8c1c6a43>:12: IntegrationWarning: The maximum number of subdivisions (50) has been achieved.\n",
            "  If increasing the limit yields no improvement it is advised to analyze \n",
            "  the integrand in order to determine the difficulties.  If the position of a \n",
            "  local difficulty can be determined (singularity, discontinuity) one will \n",
            "  probably gain from splitting up the interval and calling the integrator \n",
            "  on the subranges.  Perhaps a special-purpose integrator should be used.\n",
            "  VTensorElement += quad(integrand, -np.inf, np.inf)[0]\n"
          ]
        },
        {
          "output_type": "execute_result",
          "data": {
            "text/plain": [
              "array([[-4.89098129e-24+0.j, -4.89098129e-24+0.j, -4.89098129e-24+0.j],\n",
              "       [ 7.39274661e-25+0.j,  7.39274661e-25+0.j,  7.39274661e-25+0.j],\n",
              "       [-7.56783056e-23+0.j, -7.56783056e-23+0.j, -7.56783056e-23+0.j]])"
            ]
          },
          "metadata": {},
          "execution_count": 29
        }
      ]
    },
    {
      "cell_type": "markdown",
      "source": [
        "\\begin{equation}\n",
        "f\\left(x_1, x_2\\right) * g\\left(x_2\\right)=\\int\\limits_{-\\infty}^{\\infty} f\\left(x_1, x_2-y\\right) g(y) d y . \\\\\n",
        "u_i\\left(x_1, x_2\\right)=V_i^k\\left(x_1, x_2\\right) * F_k^S\\left(x_2\\right)+V_i^3\\left(x_1, x_2\\right) * Q^S\\left(x_2\\right), \\\\\n",
        "\\theta\\left(x_1, x_2\\right)=V_3^k\\left(x_1, x_2\\right) * F_{k}^S\\left(x_2\\right)+V_3^3\\left(x_1, x_2\\right) * Q^S\\left(x_2\\right), \\quad i, k=1,2 .\n",
        "\\end{equation}\n"
      ],
      "metadata": {
        "id": "OQ8GHmwMepYL"
      }
    },
    {
      "cell_type": "code",
      "source": [
        "def F_S(x_1, x_2):\n",
        "    return np.heaviside(x_1, x_2)\n",
        "\n",
        "def Q_S(x_1, x_2):\n",
        "    return np.heaviside(x_1, x_2)\n",
        "\n",
        "def calculate_ui(x_1, x_2, xiPar, omegaChange):\n",
        "    VTensor = calculate_VTensor(x_1, x_2, xiPar, omegaChange)\n",
        "\n",
        "    u = np.zeros(2, dtype=np.complex128)\n",
        "    for i in range(2):\n",
        "        u[i] = np.convolve(VTensor[i, 0], F_S(x_1, x_2), mode = 'valid') + np.convolve(VTensor[i, 1], F_S(x_1, x_2), mode='valid') + np.convolve(VTensor[i, 2], Q_S(x_1, x_2), mode='valid')\n",
        "    return u\n",
        "\n",
        "def calculate_theta(x_1, x_2, xiPar, omegaChange):\n",
        "    VTensor = calculate_VTensor(x_1, x_2, xiPar, omegaChange)\n",
        "    theta = np.convolve(VTensor[2, 0],  F_S(x_1, x_2), mode='valid') + np.convolve(VTensor[2, 1], F_S(x_1, x_2), mode='valid') + np.convolve(VTensor[2, 2], Q_S(x_1, x_2), mode='valid')\n",
        "    return theta"
      ],
      "metadata": {
        "id": "Z3yTZHHZPmfo"
      },
      "execution_count": null,
      "outputs": []
    },
    {
      "cell_type": "code",
      "source": [
        "print(calculate_ui(1, 1, 1, 10))\n",
        "print(calculate_theta(1, 1, 1, 10))"
      ],
      "metadata": {
        "colab": {
          "base_uri": "https://localhost:8080/"
        },
        "id": "D4uLt7VaAeih",
        "outputId": "a665afcc-aa54-427a-c03d-788ed7d7d97a"
      },
      "execution_count": null,
      "outputs": [
        {
          "output_type": "stream",
          "name": "stderr",
          "text": [
            "<ipython-input-28-6f8b8c1c6a43>:12: IntegrationWarning: The maximum number of subdivisions (50) has been achieved.\n",
            "  If increasing the limit yields no improvement it is advised to analyze \n",
            "  the integrand in order to determine the difficulties.  If the position of a \n",
            "  local difficulty can be determined (singularity, discontinuity) one will \n",
            "  probably gain from splitting up the interval and calling the integrator \n",
            "  on the subranges.  Perhaps a special-purpose integrator should be used.\n",
            "  VTensorElement += quad(integrand, -np.inf, np.inf)[0]\n"
          ]
        },
        {
          "output_type": "stream",
          "name": "stdout",
          "text": [
            "[-1.46729439e-23+0.j  2.21782398e-24+0.j]\n",
            "[-2.27034917e-22+0.j]\n"
          ]
        }
      ]
    },
    {
      "cell_type": "code",
      "source": [
        "def plot_u_theta(x_1, x_2, xiPar, omegaChange):\n",
        "          x_1_values = np.linspace(1, 10, 10)\n",
        "          x_2_values = np.linspace(1, 10, 10)\n",
        "          xiParChange = np.linspace(1, 10, 10)\n",
        "          omega_values = np.linspace(-5, 5, 10)\n",
        "          # Initialize arrays to store the results for xi\n",
        "          u_values_xi = np.zeros((10, 2), dtype=np.complex128)\n",
        "          theta_values_xi = np.zeros(10, dtype=np.complex128)\n",
        "          # Initialize arrays to store the results for x_1\n",
        "          u_values_x1 = np.zeros((10, 2), dtype=np.complex128)\n",
        "          theta_values_x1 = np.zeros(10, dtype=np.complex128)\n",
        "          # Initialize arrays to store the results for x_2\n",
        "          u_values_x2 = np.zeros((10, 2), dtype=np.complex128)\n",
        "          theta_values_x2 = np.zeros(10, dtype=np.complex128)\n",
        "          # Initialize arrays to store the results for omega\n",
        "          u_values_omega = np.zeros((10, 2), dtype=np.complex128)\n",
        "          theta_values_omega = np.zeros(10, dtype=np.complex128)\n",
        "          # Iterate over each x_1 value and calculate u and theta\n",
        "          for i, x_1 in enumerate(x_1_values):\n",
        "              u_values_x1[i] = calculate_ui(x_1, x_2, xiPar, omegaChange)\n",
        "              theta_values_x1[i] = calculate_theta(x_1, x_2, xiPar, omegaChange)\n",
        "          # Iterate over each x_2 value and calculate u and theta\n",
        "          for i, x_2 in enumerate(x_2_values):\n",
        "                u_values_x2[i] = calculate_ui(x_1, x_2, xiPar, omegaChange)\n",
        "                theta_values_x2[i] = calculate_theta(x_1, x_2, xiPar, omegaChange)\n",
        "          # Iterate over each x_2 value and calculate u and theta\n",
        "          for i, xi in enumerate(xiParChange):\n",
        "              u_values_xi[i] = calculate_ui(x_1, x_2, xi, omegaChange)\n",
        "              theta_values_xi[i] = calculate_theta(x_1, x_2, xi, omegaChange)\n",
        "          for i, omega in enumerate(omega_values):\n",
        "              u_values_omega[i] = calculate_ui(x_1, x_2, xi, omega)\n",
        "              theta_values_omega[i] = calculate_theta(x_1, x_2, xi, omega)\n",
        "          # Plot the graphs\n",
        "          plt.figure(figsize=(10, 5))\n",
        "\n",
        "          # Plot u for x_1\n",
        "          plt.subplot(2, 2, 1)\n",
        "          plt.plot(x_1_values, u_values_x1[:, 0].real, 'r', label ='u_1')\n",
        "          plt.plot(x_1_values, u_values_x1[:, 1].real, 'b', label='u_2')\n",
        "          plt.xlabel('x_1')\n",
        "          plt.ylabel('u')\n",
        "          plt.title('Graphs of u for x_1')\n",
        "          plt.legend()\n",
        "\n",
        "          # Plot theta for x_1\n",
        "          plt.subplot(2, 2, 2)\n",
        "          plt.plot(x_1_values, theta_values_x1.real, 'g', label = 'theta_1')\n",
        "          plt.xlabel('x_1')\n",
        "          plt.ylabel('theta')\n",
        "          plt.title('Graph of theta for x_1')\n",
        "\n",
        "          # Show the plots\n",
        "          plt.tight_layout()\n",
        "          plt.show()\n",
        "\n",
        "          # Plot u for x_2\n",
        "          plt.subplot(2, 2, 3)\n",
        "          plt.plot(x_2_values, u_values_x2[:, 0].real, 'r', label ='u_1')\n",
        "          plt.plot(x_2_values, u_values_x2[:, 1].real, 'b', label='u_2')\n",
        "          plt.xlabel('x_2')\n",
        "          plt.ylabel('u')\n",
        "          plt.title('Graphs of u for x_2')\n",
        "          plt.legend()\n",
        "\n",
        "          # Plot theta for x_2\n",
        "          plt.subplot(2, 2, 4)\n",
        "          plt.plot(x_2_values, theta_values_x2.real, 'g', label = 'theta_2')\n",
        "          plt.xlabel('x_2')\n",
        "          plt.ylabel('theta')\n",
        "          plt.title('Graph of theta for x_2')\n",
        "\n",
        "          # Show the plots\n",
        "          plt.tight_layout()\n",
        "          plt.savefig(\"plot_image2.png\")\n",
        "          plt.show()\n",
        "\n",
        "          #Plot u for xi\n",
        "          plt.subplot(1, 2, 1)\n",
        "          plt.plot(xiParChange, u_values_xi[:, 0].real,'r', label='u_1')\n",
        "          plt.plot(xiParChange, u_values_xi[:, 1].real, 'g', label='u_2')\n",
        "          plt.xlabel('xi')\n",
        "          plt.ylabel('u')\n",
        "          plt.title('Graphs of u')\n",
        "          plt.legend()\n",
        "\n",
        "           # Plot theta for xi\n",
        "          plt.subplot(1, 2, 2)\n",
        "          plt.plot(xiParChange, theta_values_xi.real, 'g')\n",
        "          plt.xlabel('xi')\n",
        "          plt.ylabel('theta')\n",
        "          plt.title('Graph of theta')\n",
        "\n",
        "           # Show the plots\n",
        "          plt.tight_layout()\n",
        "          plt.show()\n",
        "\n",
        "          #Plot u for omega\n",
        "          plt.subplot(1, 2, 1)\n",
        "          plt.plot(omega_values, u_values_omega[:, 0].real,'r', label='u_1')\n",
        "          plt.plot(omega_values, u_values_omega[:, 1].real, 'g', label='u_2')\n",
        "          plt.xlabel('omega')\n",
        "          plt.ylabel('u')\n",
        "          plt.title('Graphs of u')\n",
        "          plt.legend()\n",
        "\n",
        "           # Plot theta for xi\n",
        "          plt.subplot(1, 2, 2)\n",
        "          plt.plot(xiParChange, theta_values_omega.real, 'g')\n",
        "          plt.xlabel('omega')\n",
        "          plt.ylabel('theta')\n",
        "          plt.title('Graph of theta')\n",
        "\n",
        "           # Show the plots\n",
        "          plt.tight_layout()\n",
        "          plt.show()"
      ],
      "metadata": {
        "id": "bQF8aZJoNmdA"
      },
      "execution_count": null,
      "outputs": []
    },
    {
      "cell_type": "code",
      "source": [
        "plot_u_theta(1, 2, 3, 10)"
      ],
      "metadata": {
        "colab": {
          "base_uri": "https://localhost:8080/",
          "height": 1000
        },
        "id": "kt8vRfNMtds2",
        "outputId": "7db09e78-dd2c-40e9-e63a-ffafe7146c07"
      },
      "execution_count": null,
      "outputs": [
        {
          "output_type": "stream",
          "name": "stderr",
          "text": [
            "<ipython-input-28-6f8b8c1c6a43>:12: IntegrationWarning: The integral is probably divergent, or slowly convergent.\n",
            "  VTensorElement += quad(integrand, -np.inf, np.inf)[0]\n",
            "<ipython-input-28-6f8b8c1c6a43>:12: IntegrationWarning: The maximum number of subdivisions (50) has been achieved.\n",
            "  If increasing the limit yields no improvement it is advised to analyze \n",
            "  the integrand in order to determine the difficulties.  If the position of a \n",
            "  local difficulty can be determined (singularity, discontinuity) one will \n",
            "  probably gain from splitting up the interval and calling the integrator \n",
            "  on the subranges.  Perhaps a special-purpose integrator should be used.\n",
            "  VTensorElement += quad(integrand, -np.inf, np.inf)[0]\n",
            "<ipython-input-28-6f8b8c1c6a43>:12: IntegrationWarning: The algorithm does not converge.  Roundoff error is detected\n",
            "  in the extrapolation table.  It is assumed that the requested tolerance\n",
            "  cannot be achieved, and that the returned result (if full_output = 1) is \n",
            "  the best which can be obtained.\n",
            "  VTensorElement += quad(integrand, -np.inf, np.inf)[0]\n"
          ]
        },
        {
          "output_type": "display_data",
          "data": {
            "text/plain": [
              "<Figure size 1000x500 with 2 Axes>"
            ],
            "image/png": "[encoded data removed]"
          },
          "metadata": {}
        },
        {
          "output_type": "display_data",
          "data": {
            "text/plain": [
              "<Figure size 640x480 with 2 Axes>"
            ],
            "image/png": "[encoded data removed]"
          },
          "metadata": {}
        },
        {
          "output_type": "display_data",
          "data": {
            "text/plain": [
              "<Figure size 640x480 with 2 Axes>"
            ],
            "image/png": "[encoded data removed]"
          },
          "metadata": {}
        },
        {
          "output_type": "display_data",
          "data": {
            "text/plain": [
              "<Figure size 640x480 with 2 Axes>"
            ],
            "image/png": "[encoded data removed]"
          },
          "metadata": {}
        }
      ]
    }
  ],
  "metadata": {
    "colab": {
      "provenance": []
    },
    "kernelspec": {
      "display_name": "Python 3",
      "name": "python3"
    },
    "language_info": {
      "name": "python"
    }
  },
  "nbformat": 4,
  "nbformat_minor": 0
}